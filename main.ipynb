{
 "cells": [
  {
   "cell_type": "code",
   "execution_count": 1,
   "metadata": {},
   "outputs": [],
   "source": [
    "import pandas as pd\n",
    "import tweepy\n",
    "import json\n",
    "from MyOwnTools.keys import twitter\n"
   ]
  },
  {
   "cell_type": "code",
   "execution_count": 2,
   "metadata": {},
   "outputs": [],
   "source": [
    "#create connections and API object for further use \n",
    "consumer_key = twitter['consumer_key']\n",
    "consumer_secret = twitter['consumer_secret']\n",
    "access_token = twitter['access_token']\n",
    "access_secret = twitter['access_secret']\n",
    "\n",
    "auth = tweepy.OAuthHandler(consumer_key, consumer_secret)\n",
    "auth.set_access_token(access_token, access_secret)\n",
    "\n",
    "#pass auth and set the True values for the time-limit parameters of API-class object\n",
    "api = tweepy.API(auth, wait_on_rate_limit = True, wait_on_rate_limit_notify = True)"
   ]
  },
  {
   "cell_type": "code",
   "execution_count": 3,
   "metadata": {},
   "outputs": [
    {
     "data": {
      "text/plain": [
       "<tweepy.api.API at 0x213bcec6fd0>"
      ]
     },
     "execution_count": 3,
     "metadata": {},
     "output_type": "execute_result"
    }
   ],
   "source": [
    "api"
   ]
  },
  {
   "cell_type": "code",
   "execution_count": null,
   "metadata": {},
   "outputs": [],
   "source": []
  },
  {
   "cell_type": "markdown",
   "metadata": {},
   "source": [
    "#### post tweet in my timeline"
   ]
  },
  {
   "cell_type": "code",
   "execution_count": 4,
   "metadata": {},
   "outputs": [],
   "source": [
    "    # Post a tweet from Python\n",
    "#api.update_status(\"This is a test tweeting from #Python as a start of WatchYourMouth project! #SManalysis\");\n",
    "    # Your tweet has been posted;"
   ]
  },
  {
   "cell_type": "markdown",
   "metadata": {},
   "source": [
    "#### get a tweets from user's timeline"
   ]
  },
  {
   "cell_type": "code",
   "execution_count": 5,
   "metadata": {},
   "outputs": [],
   "source": [
    "#screen_name o list of screen_name to search timelines\n",
    "name = '@realDonaldTrump'"
   ]
  },
  {
   "cell_type": "code",
   "execution_count": 6,
   "metadata": {},
   "outputs": [
    {
     "data": {
      "text/plain": [
       "\"#Read the Timeline\\nwith open ('example.txt', 'w+') as tl_file:\\n    for status in tweepy.Cursor(api.user_timeline, id = name).items():\\n        json.dump(status._json, tl_file)#write the json data from API object to the file\\n        tl_file.write('\\n')# take a new line for the next entry\""
      ]
     },
     "execution_count": 6,
     "metadata": {},
     "output_type": "execute_result"
    }
   ],
   "source": [
    "\"\"\"#Read the Timeline\n",
    "with open ('example.txt', 'w+') as tl_file:\n",
    "    for status in tweepy.Cursor(api.user_timeline, id = name).items():\n",
    "        json.dump(status._json, tl_file)#write the json data from API object to the file\n",
    "        tl_file.write('\\n')# take a new line for the next entry\"\"\"\n",
    "    "
   ]
  },
  {
   "cell_type": "code",
   "execution_count": 7,
   "metadata": {},
   "outputs": [],
   "source": [
    "saved_searches = api.saved_searches()"
   ]
  },
  {
   "cell_type": "markdown",
   "metadata": {},
   "source": [
    "#### get tweets from search results"
   ]
  },
  {
   "cell_type": "code",
   "execution_count": 8,
   "metadata": {},
   "outputs": [],
   "source": [
    "#Set a term for search. Here double quotes for restriction to search exact phrase\n",
    "search_words = '\"insurance\"' # ' -filter:retweets' says for it's self"
   ]
  },
  {
   "cell_type": "code",
   "execution_count": 9,
   "metadata": {},
   "outputs": [],
   "source": [
    "    # Get search results\n",
    "#Set te start date to search\n",
    "#date_since = '2019-03-20'\n",
    "number_of_tweets = 3\n",
    "tweets = tweepy.Cursor(api.search,\n",
    "              q = search_words,\n",
    "              lang = \"en\",\n",
    "              tweet_mode = 'extended'\n",
    "              ).items(number_of_tweets)# method '.items' for set the number of tweeets we want to get\n",
    "              #geocode=\"41.766823,72.631776\""
   ]
  },
  {
   "cell_type": "code",
   "execution_count": 10,
   "metadata": {},
   "outputs": [
    {
     "data": {
      "text/plain": [
       "<tweepy.cursor.ItemIterator at 0x213bcf0bef0>"
      ]
     },
     "execution_count": 10,
     "metadata": {},
     "output_type": "execute_result"
    }
   ],
   "source": [
    "tweets"
   ]
  },
  {
   "cell_type": "code",
   "execution_count": null,
   "metadata": {},
   "outputs": [],
   "source": []
  },
  {
   "cell_type": "code",
   "execution_count": 11,
   "metadata": {
    "scrolled": true
   },
   "outputs": [],
   "source": [
    "#itterate over tweets and assign value to statuses\n",
    "status = [x._json for x in tweets]\n",
    "\n",
    "#write down data into the file\n",
    "with open ('example.txt', 'w+') as tl_file:\n",
    "    for i in range (number_of_tweets):\n",
    "        json.dump(status[i], tl_file)#write the json data from API object to the file\n",
    "        tl_file.write('\\n')# take a new line for the next entry\n",
    "       "
   ]
  },
  {
   "cell_type": "code",
   "execution_count": 17,
   "metadata": {},
   "outputs": [
    {
     "data": {
      "text/plain": [
       "{'created_at': 'Tue Mar 26 01:23:33 +0000 2019',\n",
       " 'id': 1110351551372148736,\n",
       " 'id_str': '1110351551372148736',\n",
       " 'full_text': \"@CheriBustos @ProtectOurCare Can you lower it where my husband net pay isn't equal to 1/ 3rd of my pay please?  He is basically working for insurance. It is tough to live on less then $1000, a month when his truck payment is over $400.\",\n",
       " 'truncated': False,\n",
       " 'display_text_range': [29, 235],\n",
       " 'entities': {'hashtags': [],\n",
       "  'symbols': [],\n",
       "  'user_mentions': [{'screen_name': 'CheriBustos',\n",
       "    'name': 'Cheri Bustos',\n",
       "    'id': 257180565,\n",
       "    'id_str': '257180565',\n",
       "    'indices': [0, 12]},\n",
       "   {'screen_name': 'ProtectOurCare',\n",
       "    'name': 'Protect Our Care',\n",
       "    'id': 923282909309661184,\n",
       "    'id_str': '923282909309661184',\n",
       "    'indices': [13, 28]}],\n",
       "  'urls': []},\n",
       " 'metadata': {'iso_language_code': 'en', 'result_type': 'recent'},\n",
       " 'source': '<a href=\"http://twitter.com/download/android\" rel=\"nofollow\">Twitter for Android</a>',\n",
       " 'in_reply_to_status_id': 1110277402918305793,\n",
       " 'in_reply_to_status_id_str': '1110277402918305793',\n",
       " 'in_reply_to_user_id': 257180565,\n",
       " 'in_reply_to_user_id_str': '257180565',\n",
       " 'in_reply_to_screen_name': 'CheriBustos',\n",
       " 'user': {'id': 251244963,\n",
       "  'id_str': '251244963',\n",
       "  'name': 'Deb',\n",
       "  'screen_name': 'MsDeb67',\n",
       "  'location': '',\n",
       "  'description': \"Married happily for 30 yrs come April 8, 2019. 3 children, 2 grands. Do keto. Learning every day. When I stop reading and learning, I'm dead.\",\n",
       "  'url': None,\n",
       "  'entities': {'description': {'urls': []}},\n",
       "  'protected': False,\n",
       "  'followers_count': 330,\n",
       "  'friends_count': 222,\n",
       "  'listed_count': 0,\n",
       "  'created_at': 'Sat Feb 12 18:59:44 +0000 2011',\n",
       "  'favourites_count': 7173,\n",
       "  'utc_offset': None,\n",
       "  'time_zone': None,\n",
       "  'geo_enabled': False,\n",
       "  'verified': False,\n",
       "  'statuses_count': 1006,\n",
       "  'lang': 'en',\n",
       "  'contributors_enabled': False,\n",
       "  'is_translator': False,\n",
       "  'is_translation_enabled': False,\n",
       "  'profile_background_color': 'C0DEED',\n",
       "  'profile_background_image_url': 'http://abs.twimg.com/images/themes/theme1/bg.png',\n",
       "  'profile_background_image_url_https': 'https://abs.twimg.com/images/themes/theme1/bg.png',\n",
       "  'profile_background_tile': False,\n",
       "  'profile_image_url': 'http://pbs.twimg.com/profile_images/3761271796/28b8440945b0ab19d7f4443d10161a60_normal.jpeg',\n",
       "  'profile_image_url_https': 'https://pbs.twimg.com/profile_images/3761271796/28b8440945b0ab19d7f4443d10161a60_normal.jpeg',\n",
       "  'profile_link_color': '1DA1F2',\n",
       "  'profile_sidebar_border_color': 'C0DEED',\n",
       "  'profile_sidebar_fill_color': 'DDEEF6',\n",
       "  'profile_text_color': '333333',\n",
       "  'profile_use_background_image': True,\n",
       "  'has_extended_profile': True,\n",
       "  'default_profile': True,\n",
       "  'default_profile_image': False,\n",
       "  'following': False,\n",
       "  'follow_request_sent': False,\n",
       "  'notifications': False,\n",
       "  'translator_type': 'none'},\n",
       " 'geo': None,\n",
       " 'coordinates': None,\n",
       " 'place': None,\n",
       " 'contributors': None,\n",
       " 'is_quote_status': False,\n",
       " 'retweet_count': 0,\n",
       " 'favorite_count': 0,\n",
       " 'favorited': False,\n",
       " 'retweeted': False,\n",
       " 'lang': 'en'}"
      ]
     },
     "execution_count": 17,
     "metadata": {},
     "output_type": "execute_result"
    }
   ],
   "source": [
    "status"
   ]
  },
  {
   "cell_type": "markdown",
   "metadata": {},
   "source": [
    "#### get tweets from saved searches"
   ]
  },
  {
   "cell_type": "code",
   "execution_count": 13,
   "metadata": {},
   "outputs": [
    {
     "data": {
      "text/plain": [
       "'saved_searches = api.saved_searches()\\n\\nfor search in saved_searches:\\n    saved_search = api.get_saved_search(search.id)\\n\\n    results = api.search(q=str(saved_search.query))\\n\\n    for result in results:\\n        print(result.text)'"
      ]
     },
     "execution_count": 13,
     "metadata": {},
     "output_type": "execute_result"
    }
   ],
   "source": [
    "\"\"\"saved_searches = api.saved_searches()\n",
    "\n",
    "for search in saved_searches:\n",
    "    saved_search = api.get_saved_search(search.id)\n",
    "\n",
    "    results = api.search(q=str(saved_search.query))\n",
    "\n",
    "    for result in results:\n",
    "        print(result.text)\"\"\""
   ]
  },
  {
   "cell_type": "code",
   "execution_count": 14,
   "metadata": {},
   "outputs": [],
   "source": [
    "#status['user']['id'], status['user']['name']"
   ]
  },
  {
   "cell_type": "code",
   "execution_count": 15,
   "metadata": {},
   "outputs": [
    {
     "data": {
      "text/plain": [
       "(3, 7)"
      ]
     },
     "execution_count": 15,
     "metadata": {},
     "output_type": "execute_result"
    }
   ],
   "source": [
    "#create new data frame with desired columns names\n",
    "columns = ['tweet_id', 'text', 'retweet_count', 'favor_count', 'location', 'user_id', 'user_name']\n",
    "counts_df = pd.DataFrame(columns = columns)\n",
    "\n",
    "with open ('example.txt') as fil: #open file\n",
    "#read file line by line, extract data, store it in dataframe object and append it to counts_df data frame\n",
    "    for line in fil:\n",
    "        status = json.loads(line) #get a json object out of each line in a file\n",
    "        tweet_id = status['id_str'] #get id element\n",
    "        retweet_count = status['retweet_count']# get retweets count\n",
    "        favor_count = status['favorite_count']#get favorites count\n",
    "        text = status['full_text']\n",
    "        location = status['user']['location']\n",
    "        user_id = status['user']['id']\n",
    "        user_name = status['user']['name']\n",
    "        counts_df = counts_df.append(pd.DataFrame(\\\n",
    "        [[tweet_id, text, retweet_count, favor_count, location, user_id, user_name]], columns = columns))\n",
    "counts_df = counts_df.reset_index(drop = True)\n",
    "counts_df.shape"
   ]
  },
  {
   "cell_type": "code",
   "execution_count": 16,
   "metadata": {},
   "outputs": [
    {
     "data": {
      "text/html": [
       "<div>\n",
       "<style scoped>\n",
       "    .dataframe tbody tr th:only-of-type {\n",
       "        vertical-align: middle;\n",
       "    }\n",
       "\n",
       "    .dataframe tbody tr th {\n",
       "        vertical-align: top;\n",
       "    }\n",
       "\n",
       "    .dataframe thead th {\n",
       "        text-align: right;\n",
       "    }\n",
       "</style>\n",
       "<table border=\"1\" class=\"dataframe\">\n",
       "  <thead>\n",
       "    <tr style=\"text-align: right;\">\n",
       "      <th></th>\n",
       "      <th>tweet_id</th>\n",
       "      <th>text</th>\n",
       "      <th>retweet_count</th>\n",
       "      <th>favor_count</th>\n",
       "      <th>location</th>\n",
       "      <th>user_id</th>\n",
       "      <th>user_name</th>\n",
       "    </tr>\n",
       "  </thead>\n",
       "  <tbody>\n",
       "    <tr>\n",
       "      <th>0</th>\n",
       "      <td>1110351562277183488</td>\n",
       "      <td>Re LRT: only reason I went to urgent care last...</td>\n",
       "      <td>0</td>\n",
       "      <td>0</td>\n",
       "      <td>Los Angeles</td>\n",
       "      <td>21031902</td>\n",
       "      <td>Robin Campbell</td>\n",
       "    </tr>\n",
       "    <tr>\n",
       "      <th>1</th>\n",
       "      <td>1110351554647937025</td>\n",
       "      <td>If I have insurance, will they fix this @verizon?</td>\n",
       "      <td>0</td>\n",
       "      <td>0</td>\n",
       "      <td>LFK</td>\n",
       "      <td>317964763</td>\n",
       "      <td>ImpeachTheMotherFucker</td>\n",
       "    </tr>\n",
       "    <tr>\n",
       "      <th>2</th>\n",
       "      <td>1110351551372148736</td>\n",
       "      <td>@CheriBustos @ProtectOurCare Can you lower it ...</td>\n",
       "      <td>0</td>\n",
       "      <td>0</td>\n",
       "      <td></td>\n",
       "      <td>251244963</td>\n",
       "      <td>Deb</td>\n",
       "    </tr>\n",
       "  </tbody>\n",
       "</table>\n",
       "</div>"
      ],
      "text/plain": [
       "              tweet_id                                               text  \\\n",
       "0  1110351562277183488  Re LRT: only reason I went to urgent care last...   \n",
       "1  1110351554647937025  If I have insurance, will they fix this @verizon?   \n",
       "2  1110351551372148736  @CheriBustos @ProtectOurCare Can you lower it ...   \n",
       "\n",
       "  retweet_count favor_count     location    user_id               user_name  \n",
       "0             0           0  Los Angeles   21031902          Robin Campbell  \n",
       "1             0           0         LFK   317964763  ImpeachTheMotherFucker  \n",
       "2             0           0               251244963                     Deb  "
      ]
     },
     "execution_count": 16,
     "metadata": {},
     "output_type": "execute_result"
    }
   ],
   "source": [
    "counts_df.head()\n"
   ]
  },
  {
   "cell_type": "code",
   "execution_count": null,
   "metadata": {},
   "outputs": [],
   "source": []
  }
 ],
 "metadata": {
  "kernelspec": {
   "display_name": "Python 3",
   "language": "python",
   "name": "python3"
  },
  "language_info": {
   "codemirror_mode": {
    "name": "ipython",
    "version": 3
   },
   "file_extension": ".py",
   "mimetype": "text/x-python",
   "name": "python",
   "nbconvert_exporter": "python",
   "pygments_lexer": "ipython3",
   "version": "3.7.0"
  }
 },
 "nbformat": 4,
 "nbformat_minor": 2
}
