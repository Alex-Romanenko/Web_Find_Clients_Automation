{
 "cells": [
  {
   "cell_type": "code",
   "execution_count": 10,
   "metadata": {},
   "outputs": [],
   "source": [
    "import pandas as pd\n",
    "import json"
   ]
  },
  {
   "cell_type": "code",
   "execution_count": null,
   "metadata": {},
   "outputs": [],
   "source": [
    "# encoding=\"utf8\" is nesessary here to read characters like  ” (also known as: \"RIGHT DOUBLE QUOTATION MARK\"). \n",
    "# Found solution here https://stackoverflow.com/questions/49640513/unicodedecodeerror-charmap-codec-cant-decode-byte-0x9d-in-position-x-charac\n",
    "\"\"\"with open('C://Alex/Data/yelp/review.json', encoding=\"utf8\") as json_file:      \n",
    "    data = json_file.readlines()\n",
    "    # longest part - converts strings in list to json objects\n",
    "    data = list(map(json.loads, data)) \n",
    "\n",
    "pd.DataFrame(data)\"\"\""
   ]
  }
 ],
 "metadata": {
  "kernelspec": {
   "display_name": "Python 3",
   "language": "python",
   "name": "python3"
  },
  "language_info": {
   "codemirror_mode": {
    "name": "ipython",
    "version": 3
   },
   "file_extension": ".py",
   "mimetype": "text/x-python",
   "name": "python",
   "nbconvert_exporter": "python",
   "pygments_lexer": "ipython3",
   "version": "3.7.0"
  }
 },
 "nbformat": 4,
 "nbformat_minor": 2
}
