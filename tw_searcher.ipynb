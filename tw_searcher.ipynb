{
 "cells": [
  {
   "cell_type": "code",
   "execution_count": 1,
   "metadata": {},
   "outputs": [],
   "source": [
    "import pandas as pd\n",
    "import tweepy\n",
    "import json\n",
    "from MyOwnTools.keys import twitter\n"
   ]
  },
  {
   "cell_type": "code",
   "execution_count": 2,
   "metadata": {},
   "outputs": [],
   "source": [
    "#create connections and API object for further use \n",
    "consumer_key = twitter['consumer_key']\n",
    "consumer_secret = twitter['consumer_secret']\n",
    "access_token = twitter['access_token']\n",
    "access_secret = twitter['access_secret']\n",
    "\n",
    "auth = tweepy.OAuthHandler(consumer_key, consumer_secret)\n",
    "auth.set_access_token(access_token, access_secret)\n",
    "\n",
    "#pass auth and set the True values for the time-limit parameters of API-class object\n",
    "api = tweepy.API(auth, wait_on_rate_limit = True, wait_on_rate_limit_notify = True)"
   ]
  },
  {
   "cell_type": "code",
   "execution_count": 3,
   "metadata": {},
   "outputs": [
    {
     "data": {
      "text/plain": [
       "<tweepy.api.API at 0x1dd2e326c50>"
      ]
     },
     "execution_count": 3,
     "metadata": {},
     "output_type": "execute_result"
    }
   ],
   "source": [
    "api"
   ]
  },
  {
   "cell_type": "markdown",
   "metadata": {},
   "source": [
    "## Get tweets from search results"
   ]
  },
  {
   "cell_type": "code",
   "execution_count": 53,
   "metadata": {},
   "outputs": [],
   "source": [
    "#Set a term for search. Here double quotes for restriction to search exact phrase\n",
    "search_words = '\"Business Intelligence\", -filter:retweets' # ' -filter:retweets' says for it's self"
   ]
  },
  {
   "cell_type": "code",
   "execution_count": 54,
   "metadata": {},
   "outputs": [],
   "source": [
    "    # Get search results\n",
    "#Set te start date to search\n",
    "#date_since = '2019-03-20'\n",
    "number_of_tweets = 80\n",
    "tweets = tweepy.Cursor(api.search,\n",
    "              q = search_words,\n",
    "              lang = \"en\",\n",
    "              tweet_mode = 'extended'\n",
    "              ).items(number_of_tweets)# method '.items' for set the number of tweeets we want to get\n",
    "              #geocode=\"41.766823,72.631776\""
   ]
  },
  {
   "cell_type": "code",
   "execution_count": 55,
   "metadata": {},
   "outputs": [
    {
     "data": {
      "text/plain": [
       "<tweepy.cursor.ItemIterator at 0x1dd2e60ba20>"
      ]
     },
     "execution_count": 55,
     "metadata": {},
     "output_type": "execute_result"
    }
   ],
   "source": [
    "#check object created\n",
    "tweets"
   ]
  },
  {
   "cell_type": "markdown",
   "metadata": {},
   "source": [
    "## Save data to the file"
   ]
  },
  {
   "cell_type": "code",
   "execution_count": 56,
   "metadata": {
    "scrolled": true
   },
   "outputs": [],
   "source": [
    "#itterate over tweets and assign value to statuses in JSON format\n",
    "status = [x._json for x in tweets]\n"
   ]
  },
  {
   "cell_type": "code",
   "execution_count": 57,
   "metadata": {},
   "outputs": [
    {
     "data": {
      "text/plain": [
       "54317231"
      ]
     },
     "execution_count": 57,
     "metadata": {},
     "output_type": "execute_result"
    }
   ],
   "source": [
    "#get a glance of data\n",
    "status[1]['user']['id']"
   ]
  },
  {
   "cell_type": "markdown",
   "metadata": {},
   "source": [
    "**Create new data frame with desired columns names**<br>\n",
    "Get values of specified keys from each status"
   ]
  },
  {
   "cell_type": "code",
   "execution_count": 58,
   "metadata": {},
   "outputs": [],
   "source": [
    "# set a columns names\n",
    "columns = ['user_id', 'user_name', 'lang', 'followers', 'tweets']\n"
   ]
  },
  {
   "cell_type": "code",
   "execution_count": 59,
   "metadata": {},
   "outputs": [],
   "source": [
    "#user id\n",
    "ud = [status[i]['user']['id'] for i in range (number_of_tweets)]"
   ]
  },
  {
   "cell_type": "code",
   "execution_count": 60,
   "metadata": {},
   "outputs": [],
   "source": [
    "#screen name\n",
    "un = [status[i]['user']['screen_name'] for i in range (number_of_tweets)]"
   ]
  },
  {
   "cell_type": "code",
   "execution_count": 61,
   "metadata": {},
   "outputs": [],
   "source": [
    "# language\n",
    "lg = [status[i]['user']['lang'] for i in range (number_of_tweets)]"
   ]
  },
  {
   "cell_type": "code",
   "execution_count": 62,
   "metadata": {},
   "outputs": [],
   "source": [
    "#number of followers\n",
    "fw = [status[i]['user']['followers_count'] for i in range (number_of_tweets)]"
   ]
  },
  {
   "cell_type": "code",
   "execution_count": 63,
   "metadata": {},
   "outputs": [],
   "source": [
    "#number of statuses in timeline\n",
    "tw = [status[i]['user']['statuses_count'] for i in range (number_of_tweets)]"
   ]
  },
  {
   "cell_type": "code",
   "execution_count": 64,
   "metadata": {},
   "outputs": [],
   "source": [
    "#create pandas dataframe object\n",
    "df = pd.DataFrame({'user_id' : ud, 'user_name' : un, 'lang' : lg, 'followers' : fw, 'tweets' : tw}, columns = columns)"
   ]
  },
  {
   "cell_type": "code",
   "execution_count": 65,
   "metadata": {},
   "outputs": [
    {
     "data": {
      "text/html": [
       "<div>\n",
       "<style scoped>\n",
       "    .dataframe tbody tr th:only-of-type {\n",
       "        vertical-align: middle;\n",
       "    }\n",
       "\n",
       "    .dataframe tbody tr th {\n",
       "        vertical-align: top;\n",
       "    }\n",
       "\n",
       "    .dataframe thead th {\n",
       "        text-align: right;\n",
       "    }\n",
       "</style>\n",
       "<table border=\"1\" class=\"dataframe\">\n",
       "  <thead>\n",
       "    <tr style=\"text-align: right;\">\n",
       "      <th></th>\n",
       "      <th>user_id</th>\n",
       "      <th>user_name</th>\n",
       "      <th>lang</th>\n",
       "      <th>followers</th>\n",
       "      <th>tweets</th>\n",
       "    </tr>\n",
       "  </thead>\n",
       "  <tbody>\n",
       "    <tr>\n",
       "      <th>0</th>\n",
       "      <td>824786651964547072</td>\n",
       "      <td>AnalyticMusings</td>\n",
       "      <td>en</td>\n",
       "      <td>17</td>\n",
       "      <td>712</td>\n",
       "    </tr>\n",
       "    <tr>\n",
       "      <th>1</th>\n",
       "      <td>54317231</td>\n",
       "      <td>arjenvanberkum</td>\n",
       "      <td>en</td>\n",
       "      <td>36055</td>\n",
       "      <td>40756</td>\n",
       "    </tr>\n",
       "    <tr>\n",
       "      <th>2</th>\n",
       "      <td>2656729140</td>\n",
       "      <td>Phocas_Nico</td>\n",
       "      <td>en</td>\n",
       "      <td>43</td>\n",
       "      <td>339</td>\n",
       "    </tr>\n",
       "    <tr>\n",
       "      <th>3</th>\n",
       "      <td>26057123</td>\n",
       "      <td>PhocasSoftware</td>\n",
       "      <td>en</td>\n",
       "      <td>1702</td>\n",
       "      <td>1727</td>\n",
       "    </tr>\n",
       "    <tr>\n",
       "      <th>4</th>\n",
       "      <td>2242131800</td>\n",
       "      <td>steveparry2013</td>\n",
       "      <td>en</td>\n",
       "      <td>63</td>\n",
       "      <td>2229</td>\n",
       "    </tr>\n",
       "  </tbody>\n",
       "</table>\n",
       "</div>"
      ],
      "text/plain": [
       "              user_id        user_name lang  followers  tweets\n",
       "0  824786651964547072  AnalyticMusings   en         17     712\n",
       "1            54317231   arjenvanberkum   en      36055   40756\n",
       "2          2656729140      Phocas_Nico   en         43     339\n",
       "3            26057123   PhocasSoftware   en       1702    1727\n",
       "4          2242131800   steveparry2013   en         63    2229"
      ]
     },
     "execution_count": 65,
     "metadata": {},
     "output_type": "execute_result"
    }
   ],
   "source": [
    "df.head()"
   ]
  },
  {
   "cell_type": "code",
   "execution_count": 66,
   "metadata": {},
   "outputs": [
    {
     "data": {
      "text/plain": [
       "24"
      ]
     },
     "execution_count": 66,
     "metadata": {},
     "output_type": "execute_result"
    }
   ],
   "source": [
    "df[(df['followers'] < 500) & (df['tweets']<1000)].drop_duplicates().shape[0]"
   ]
  },
  {
   "cell_type": "code",
   "execution_count": null,
   "metadata": {},
   "outputs": [],
   "source": []
  },
  {
   "cell_type": "code",
   "execution_count": null,
   "metadata": {},
   "outputs": [],
   "source": []
  },
  {
   "cell_type": "code",
   "execution_count": null,
   "metadata": {},
   "outputs": [],
   "source": [
    "#save data to the file csv\n",
    "#df.to_csv('df.csv', index = False)"
   ]
  },
  {
   "cell_type": "markdown",
   "metadata": {},
   "source": [
    "**Get number of followers of specified user_id**"
   ]
  },
  {
   "cell_type": "code",
   "execution_count": null,
   "metadata": {},
   "outputs": [],
   "source": [
    "#df['followers'] = 1\n",
    "#for i in df.index:\n",
    "  #  user = api.get_user(user_id = df.loc[i, 'user_id'])\n",
    "   # df.loc[i,'followers'] = user._json['followers_count']"
   ]
  },
  {
   "cell_type": "code",
   "execution_count": null,
   "metadata": {},
   "outputs": [],
   "source": [
    "#df['followers'] = [api.get_user(user_id = df.loc[i, 'user_id'])._json['followers_count'] for i in df.index]"
   ]
  },
  {
   "cell_type": "code",
   "execution_count": null,
   "metadata": {},
   "outputs": [],
   "source": [
    "#df['statuses'] = [api.get_user(user_id = df.loc[i, 'user_id'])._json['statuses_count'] for i in df.index]"
   ]
  },
  {
   "cell_type": "code",
   "execution_count": null,
   "metadata": {},
   "outputs": [],
   "source": [
    "#check object\n",
    "#user._json"
   ]
  },
  {
   "cell_type": "code",
   "execution_count": null,
   "metadata": {},
   "outputs": [],
   "source": []
  }
 ],
 "metadata": {
  "kernelspec": {
   "display_name": "Python 3",
   "language": "python",
   "name": "python3"
  },
  "language_info": {
   "codemirror_mode": {
    "name": "ipython",
    "version": 3
   },
   "file_extension": ".py",
   "mimetype": "text/x-python",
   "name": "python",
   "nbconvert_exporter": "python",
   "pygments_lexer": "ipython3",
   "version": "3.7.0"
  }
 },
 "nbformat": 4,
 "nbformat_minor": 2
}
